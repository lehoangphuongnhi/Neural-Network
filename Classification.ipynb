{
  "nbformat": 4,
  "nbformat_minor": 0,
  "metadata": {
    "colab": {
      "name": "Classification.ipynb",
      "provenance": [],
      "collapsed_sections": [],
      "toc_visible": true
    },
    "kernelspec": {
      "name": "python3",
      "display_name": "Python 3"
    },
    "language_info": {
      "name": "python"
    },
    "accelerator": "GPU"
  },
  "cells": [
    {
      "cell_type": "markdown",
      "metadata": {
        "id": "RbVbXaJPWOd_"
      },
      "source": [
        "## Import"
      ]
    },
    {
      "cell_type": "code",
      "metadata": {
        "id": "2Gbo546ab2Qv",
        "colab": {
          "base_uri": "https://localhost:8080/"
        },
        "outputId": "f89f5ca4-bbfd-43bf-fede-93ba64b20526"
      },
      "source": [
        "!pip install -q efficientnet"
      ],
      "execution_count": null,
      "outputs": [
        {
          "output_type": "stream",
          "text": [
            "\u001b[?25l\r\u001b[K     |██████▌                         | 10kB 23.3MB/s eta 0:00:01\r\u001b[K     |█████████████                   | 20kB 25.3MB/s eta 0:00:01\r\u001b[K     |███████████████████▍            | 30kB 28.9MB/s eta 0:00:01\r\u001b[K     |█████████████████████████▉      | 40kB 31.2MB/s eta 0:00:01\r\u001b[K     |████████████████████████████████| 51kB 4.9MB/s \n",
            "\u001b[?25h"
          ],
          "name": "stdout"
        }
      ]
    },
    {
      "cell_type": "code",
      "metadata": {
        "id": "gC5a45xvtgS-"
      },
      "source": [
        "import numpy as np\n",
        "import pandas as pd\n",
        "import os\n",
        "from re import search\n",
        "import shutil\n",
        "from PIL import Image\n",
        "import matplotlib.pyplot as plt\n",
        "from tqdm import tqdm\n",
        "import cv2\n",
        "\n",
        "import tensorflow as tf\n",
        "from tensorflow.keras.models import Sequential\n",
        "from tensorflow.keras.callbacks import ModelCheckpoint,EarlyStopping\n",
        "from tensorflow.keras.preprocessing.image import ImageDataGenerator\n",
        "from tensorflow.keras.layers import Dense,Activation,Flatten, Conv2D, MaxPooling2D,BatchNormalization, Dropout\n",
        "from tensorflow.keras.preprocessing.image import ImageDataGenerator\n",
        "from tensorflow.keras import layers as L\n",
        "import efficientnet.tfkeras as efn\n",
        "from tensorflow.keras.applications import DenseNet121\n",
        "from keras.applications.resnet50 import ResNet50\n",
        "from keras.models import Model\n",
        "import keras\n",
        "from keras import optimizers\n",
        "from keras.callbacks import ReduceLROnPlateau\n",
        "\n",
        "# example of loading the mnist dataset\n",
        "from keras.datasets import mnist\n",
        "from matplotlib import pyplot"
      ],
      "execution_count": null,
      "outputs": []
    },
    {
      "cell_type": "markdown",
      "metadata": {
        "id": "Tc0GZmkPYY61"
      },
      "source": [
        "## Data Loading"
      ]
    },
    {
      "cell_type": "code",
      "metadata": {
        "id": "oW1DKq1sfZUc",
        "colab": {
          "base_uri": "https://localhost:8080/"
        },
        "outputId": "47f56cd6-dde5-4f61-cc35-30ed2546efa6"
      },
      "source": [
        "from google.colab import drive\n",
        "drive.mount('/content/drive')"
      ],
      "execution_count": null,
      "outputs": [
        {
          "output_type": "stream",
          "text": [
            "Mounted at /content/drive\n"
          ],
          "name": "stdout"
        }
      ]
    },
    {
      "cell_type": "code",
      "metadata": {
        "id": "Rnmcx1TzSvID"
      },
      "source": [
        "IMAGES_PATH = '/content/drive/MyDrive/Data/plant-pathology-2020-fgvc7/images'\n",
        "TRAIN_PATH = '/content/drive/MyDrive/Data/plant-pathology-2020-fgvc7/train.csv'\n",
        "TEST_PATH = '/content/drive/MyDrive/Data/plant-pathology-2020-fgvc7/sample_submission.csv'"
      ],
      "execution_count": null,
      "outputs": []
    },
    {
      "cell_type": "code",
      "metadata": {
        "id": "QTXBzyentgAm"
      },
      "source": [
        "train_df = pd.read_csv(TRAIN_PATH)"
      ],
      "execution_count": null,
      "outputs": []
    },
    {
      "cell_type": "markdown",
      "metadata": {
        "id": "_IC1yyZapG-6"
      },
      "source": [
        "## Data Exploration"
      ]
    },
    {
      "cell_type": "code",
      "metadata": {
        "colab": {
          "base_uri": "https://localhost:8080/",
          "height": 204
        },
        "id": "SZhHDT89_IND",
        "outputId": "b61d040f-5369-40f6-b5eb-74f79c45981e"
      },
      "source": [
        "train_df.head()"
      ],
      "execution_count": null,
      "outputs": [
        {
          "output_type": "execute_result",
          "data": {
            "text/html": [
              "<div>\n",
              "<style scoped>\n",
              "    .dataframe tbody tr th:only-of-type {\n",
              "        vertical-align: middle;\n",
              "    }\n",
              "\n",
              "    .dataframe tbody tr th {\n",
              "        vertical-align: top;\n",
              "    }\n",
              "\n",
              "    .dataframe thead th {\n",
              "        text-align: right;\n",
              "    }\n",
              "</style>\n",
              "<table border=\"1\" class=\"dataframe\">\n",
              "  <thead>\n",
              "    <tr style=\"text-align: right;\">\n",
              "      <th></th>\n",
              "      <th>image_id</th>\n",
              "      <th>healthy</th>\n",
              "      <th>multiple_diseases</th>\n",
              "      <th>rust</th>\n",
              "      <th>scab</th>\n",
              "    </tr>\n",
              "  </thead>\n",
              "  <tbody>\n",
              "    <tr>\n",
              "      <th>0</th>\n",
              "      <td>Train_0</td>\n",
              "      <td>0</td>\n",
              "      <td>0</td>\n",
              "      <td>0</td>\n",
              "      <td>1</td>\n",
              "    </tr>\n",
              "    <tr>\n",
              "      <th>1</th>\n",
              "      <td>Train_1</td>\n",
              "      <td>0</td>\n",
              "      <td>1</td>\n",
              "      <td>0</td>\n",
              "      <td>0</td>\n",
              "    </tr>\n",
              "    <tr>\n",
              "      <th>2</th>\n",
              "      <td>Train_2</td>\n",
              "      <td>1</td>\n",
              "      <td>0</td>\n",
              "      <td>0</td>\n",
              "      <td>0</td>\n",
              "    </tr>\n",
              "    <tr>\n",
              "      <th>3</th>\n",
              "      <td>Train_3</td>\n",
              "      <td>0</td>\n",
              "      <td>0</td>\n",
              "      <td>1</td>\n",
              "      <td>0</td>\n",
              "    </tr>\n",
              "    <tr>\n",
              "      <th>4</th>\n",
              "      <td>Train_4</td>\n",
              "      <td>1</td>\n",
              "      <td>0</td>\n",
              "      <td>0</td>\n",
              "      <td>0</td>\n",
              "    </tr>\n",
              "  </tbody>\n",
              "</table>\n",
              "</div>"
            ],
            "text/plain": [
              "  image_id  healthy  multiple_diseases  rust  scab\n",
              "0  Train_0        0                  0     0     1\n",
              "1  Train_1        0                  1     0     0\n",
              "2  Train_2        1                  0     0     0\n",
              "3  Train_3        0                  0     1     0\n",
              "4  Train_4        1                  0     0     0"
            ]
          },
          "metadata": {
            "tags": []
          },
          "execution_count": 6
        }
      ]
    },
    {
      "cell_type": "code",
      "metadata": {
        "colab": {
          "base_uri": "https://localhost:8080/"
        },
        "id": "0mAHj9hPZWxP",
        "outputId": "e1c20fb8-9ece-4674-d95b-de14fdbac31b"
      },
      "source": [
        "train_df.shape"
      ],
      "execution_count": null,
      "outputs": [
        {
          "output_type": "execute_result",
          "data": {
            "text/plain": [
              "(1821, 5)"
            ]
          },
          "metadata": {
            "tags": []
          },
          "execution_count": 7
        }
      ]
    },
    {
      "cell_type": "code",
      "metadata": {
        "colab": {
          "base_uri": "https://localhost:8080/"
        },
        "id": "X44_gUCxZbfG",
        "outputId": "6d6d895c-067f-4fe4-a926-b6ff78cb6e2a"
      },
      "source": [
        "train_df.info()"
      ],
      "execution_count": null,
      "outputs": [
        {
          "output_type": "stream",
          "text": [
            "<class 'pandas.core.frame.DataFrame'>\n",
            "RangeIndex: 1821 entries, 0 to 1820\n",
            "Data columns (total 5 columns):\n",
            " #   Column             Non-Null Count  Dtype \n",
            "---  ------             --------------  ----- \n",
            " 0   image_id           1821 non-null   object\n",
            " 1   healthy            1821 non-null   int64 \n",
            " 2   multiple_diseases  1821 non-null   int64 \n",
            " 3   rust               1821 non-null   int64 \n",
            " 4   scab               1821 non-null   int64 \n",
            "dtypes: int64(4), object(1)\n",
            "memory usage: 71.3+ KB\n"
          ],
          "name": "stdout"
        }
      ]
    },
    {
      "cell_type": "code",
      "metadata": {
        "colab": {
          "base_uri": "https://localhost:8080/"
        },
        "id": "SpRnWcNxZd1I",
        "outputId": "9fa65960-ebf1-4557-f8ed-5b1c3cc2ba05"
      },
      "source": [
        "train_df.duplicated().sum()"
      ],
      "execution_count": null,
      "outputs": [
        {
          "output_type": "execute_result",
          "data": {
            "text/plain": [
              "0"
            ]
          },
          "metadata": {
            "tags": []
          },
          "execution_count": 9
        }
      ]
    },
    {
      "cell_type": "code",
      "metadata": {
        "colab": {
          "base_uri": "https://localhost:8080/"
        },
        "id": "SBmFvRaGsRX7",
        "outputId": "914c78a6-8d3b-417d-ef96-3754c7947e1a"
      },
      "source": [
        "train_df.healthy.sum() + train_df.multiple_diseases.sum() + train_df.rust.sum() + train_df.scab.sum()"
      ],
      "execution_count": null,
      "outputs": [
        {
          "output_type": "execute_result",
          "data": {
            "text/plain": [
              "1821"
            ]
          },
          "metadata": {
            "tags": []
          },
          "execution_count": 10
        }
      ]
    },
    {
      "cell_type": "markdown",
      "metadata": {
        "id": "Uplk-TlnuyFH"
      },
      "source": [
        "=> So that the value of 1 appears only once time on each record"
      ]
    },
    {
      "cell_type": "markdown",
      "metadata": {
        "id": "ZE-zmdHBZhnY"
      },
      "source": [
        "## Data Preprocessing"
      ]
    },
    {
      "cell_type": "code",
      "metadata": {
        "colab": {
          "base_uri": "https://localhost:8080/"
        },
        "id": "2UwZs8c_GIIr",
        "outputId": "eb62a516-ecae-40f5-9421-66be4bda6da1"
      },
      "source": [
        "train_labels = np.float32(train_df.loc[:, 'healthy':'scab'].values)\n",
        "train_labels"
      ],
      "execution_count": null,
      "outputs": [
        {
          "output_type": "execute_result",
          "data": {
            "text/plain": [
              "array([[0., 0., 0., 1.],\n",
              "       [0., 1., 0., 0.],\n",
              "       [1., 0., 0., 0.],\n",
              "       ...,\n",
              "       [1., 0., 0., 0.],\n",
              "       [0., 0., 1., 0.],\n",
              "       [0., 0., 0., 1.]], dtype=float32)"
            ]
          },
          "metadata": {
            "tags": []
          },
          "execution_count": 11
        }
      ]
    },
    {
      "cell_type": "code",
      "metadata": {
        "id": "VMMhM0eWU9_a"
      },
      "source": [
        "train_df.image_id = train_df.image_id.apply(lambda x: x+'.jpg')"
      ],
      "execution_count": null,
      "outputs": []
    },
    {
      "cell_type": "code",
      "metadata": {
        "id": "_X9m8aYJbftQ"
      },
      "source": [
        "cols = ['healthy', 'multiple_diseases', 'rust', 'scab']\n",
        "label = []\n",
        "\n",
        "for i in range(len(train_df)):\n",
        "  for col in cols:\n",
        "    if train_df.iloc[i][col] == 1:\n",
        "      label.append(col)\n",
        "      break\n",
        "\n",
        "train_df['label'] = label"
      ],
      "execution_count": null,
      "outputs": []
    },
    {
      "cell_type": "code",
      "metadata": {
        "colab": {
          "base_uri": "https://localhost:8080/",
          "height": 204
        },
        "id": "6hr9Rq_xNoB2",
        "outputId": "28f80d64-d2b9-4fd0-8913-a34f9d934f11"
      },
      "source": [
        "train_df.head()"
      ],
      "execution_count": null,
      "outputs": [
        {
          "output_type": "execute_result",
          "data": {
            "text/html": [
              "<div>\n",
              "<style scoped>\n",
              "    .dataframe tbody tr th:only-of-type {\n",
              "        vertical-align: middle;\n",
              "    }\n",
              "\n",
              "    .dataframe tbody tr th {\n",
              "        vertical-align: top;\n",
              "    }\n",
              "\n",
              "    .dataframe thead th {\n",
              "        text-align: right;\n",
              "    }\n",
              "</style>\n",
              "<table border=\"1\" class=\"dataframe\">\n",
              "  <thead>\n",
              "    <tr style=\"text-align: right;\">\n",
              "      <th></th>\n",
              "      <th>image_id</th>\n",
              "      <th>healthy</th>\n",
              "      <th>multiple_diseases</th>\n",
              "      <th>rust</th>\n",
              "      <th>scab</th>\n",
              "      <th>label</th>\n",
              "    </tr>\n",
              "  </thead>\n",
              "  <tbody>\n",
              "    <tr>\n",
              "      <th>0</th>\n",
              "      <td>Train_0.jpg</td>\n",
              "      <td>0</td>\n",
              "      <td>0</td>\n",
              "      <td>0</td>\n",
              "      <td>1</td>\n",
              "      <td>scab</td>\n",
              "    </tr>\n",
              "    <tr>\n",
              "      <th>1</th>\n",
              "      <td>Train_1.jpg</td>\n",
              "      <td>0</td>\n",
              "      <td>1</td>\n",
              "      <td>0</td>\n",
              "      <td>0</td>\n",
              "      <td>multiple_diseases</td>\n",
              "    </tr>\n",
              "    <tr>\n",
              "      <th>2</th>\n",
              "      <td>Train_2.jpg</td>\n",
              "      <td>1</td>\n",
              "      <td>0</td>\n",
              "      <td>0</td>\n",
              "      <td>0</td>\n",
              "      <td>healthy</td>\n",
              "    </tr>\n",
              "    <tr>\n",
              "      <th>3</th>\n",
              "      <td>Train_3.jpg</td>\n",
              "      <td>0</td>\n",
              "      <td>0</td>\n",
              "      <td>1</td>\n",
              "      <td>0</td>\n",
              "      <td>rust</td>\n",
              "    </tr>\n",
              "    <tr>\n",
              "      <th>4</th>\n",
              "      <td>Train_4.jpg</td>\n",
              "      <td>1</td>\n",
              "      <td>0</td>\n",
              "      <td>0</td>\n",
              "      <td>0</td>\n",
              "      <td>healthy</td>\n",
              "    </tr>\n",
              "  </tbody>\n",
              "</table>\n",
              "</div>"
            ],
            "text/plain": [
              "      image_id  healthy  multiple_diseases  rust  scab              label\n",
              "0  Train_0.jpg        0                  0     0     1               scab\n",
              "1  Train_1.jpg        0                  1     0     0  multiple_diseases\n",
              "2  Train_2.jpg        1                  0     0     0            healthy\n",
              "3  Train_3.jpg        0                  0     1     0               rust\n",
              "4  Train_4.jpg        1                  0     0     0            healthy"
            ]
          },
          "metadata": {
            "tags": []
          },
          "execution_count": 14
        }
      ]
    },
    {
      "cell_type": "code",
      "metadata": {
        "colab": {
          "base_uri": "https://localhost:8080/"
        },
        "id": "mtyLdU2qWMLp",
        "outputId": "8d6c3f36-80b6-4103-ccd0-fcf39a3e4e62"
      },
      "source": [
        "## import image dateset\n",
        "datagen = ImageDataGenerator(rescale = 1/255.,\n",
        "    rotation_range = 10,\n",
        "    width_shift_range = 0.2,\n",
        "    height_shift_range = 0.2,\n",
        "    brightness_range = [0.2,1.0],\n",
        "    shear_range = 0.2,\n",
        "    zoom_range = 0.2,\n",
        "    horizontal_flip=True,\n",
        "    vertical_flip=True,\n",
        "    validation_split= 0.2)\n",
        "\n",
        "\n",
        "HEIGHT = 124\n",
        "WIDTH = 124\n",
        "SEED = 143\n",
        "BATCH_SIZE = 32\n",
        "\n",
        "## generate training dataset\n",
        "train_ds = datagen.flow_from_dataframe(\n",
        "    train_df,\n",
        "    directory = IMAGES_PATH,\n",
        "    x_col = 'image_id',\n",
        "    y_col = 'label',\n",
        "    subset=\"training\",\n",
        "    color_mode=\"rgb\",\n",
        "    target_size = (HEIGHT,WIDTH),\n",
        "    class_mode=\"categorical\",\n",
        "    batch_size=BATCH_SIZE,\n",
        "    shuffle=True,\n",
        "    seed=SEED,\n",
        ")\n",
        "\n",
        "## generate validation dataset\n",
        "val_ds = datagen.flow_from_dataframe(\n",
        "    train_df,\n",
        "    directory = IMAGES_PATH,\n",
        "    x_col = 'image_id',\n",
        "    y_col = 'label',\n",
        "    subset=\"validation\",\n",
        "    color_mode=\"rgb\",\n",
        "    target_size = (HEIGHT,WIDTH),\n",
        "    class_mode=\"categorical\",\n",
        "    batch_size=BATCH_SIZE,\n",
        "    shuffle=True,\n",
        "    seed=SEED,\n",
        ")"
      ],
      "execution_count": null,
      "outputs": [
        {
          "output_type": "stream",
          "text": [
            "Found 1457 validated image filenames belonging to 4 classes.\n",
            "Found 364 validated image filenames belonging to 4 classes.\n"
          ],
          "name": "stdout"
        }
      ]
    },
    {
      "cell_type": "code",
      "metadata": {
        "colab": {
          "base_uri": "https://localhost:8080/",
          "height": 268
        },
        "id": "fi5R3_W5Wwv9",
        "outputId": "f868ad0f-bf61-4771-8fbb-1cc4dcc79d26"
      },
      "source": [
        "## show a sample of image\n",
        "image = train_ds.next()[0][0,:,:,:]\n",
        "plt.imshow(image)\n",
        "plt.show()"
      ],
      "execution_count": null,
      "outputs": [
        {
          "output_type": "display_data",
          "data": {
            "image/png": "[encoded data removed]",
            "text/plain": [
              "<Figure size 432x288 with 1 Axes>"
            ]
          },
          "metadata": {
            "tags": [],
            "needs_background": "light"
          }
        }
      ]
    },
    {
      "cell_type": "markdown",
      "metadata": {
        "id": "QZTrsLxfw0uj"
      },
      "source": [
        "## CNN Model Building"
      ]
    },
    {
      "cell_type": "code",
      "metadata": {
        "id": "pIIr2S2fd33k"
      },
      "source": [
        "## fault tolerance technique for long running processes.\n",
        "checkpoint_1 = tf.keras.callbacks.ModelCheckpoint(r'resnet.h5',\n",
        "                          monitor='val_loss',\n",
        "                          mode='min',\n",
        "                          save_best_only=True,\n",
        "                          save_weights_only=True,\n",
        "                          verbose=1)\n",
        "\n",
        "checkpoint_2 = tf.keras.callbacks.ModelCheckpoint(r'densenet.h5',\n",
        "                          monitor='val_loss',\n",
        "                          mode='min',\n",
        "                          save_best_only=True,\n",
        "                          save_weights_only=True,\n",
        "                          verbose=1)\n",
        "\n",
        "checkpoint_3 = tf.keras.callbacks.ModelCheckpoint(r'efficientnet.h5',\n",
        "                          monitor='val_loss',\n",
        "                          mode='min',\n",
        "                          save_best_only=True,\n",
        "                          save_weights_only=True,\n",
        "                          verbose=1)\n",
        "\n",
        "earlystop = tf.keras.callbacks.EarlyStopping(monitor='val_loss',\n",
        "                       min_delta=0,\n",
        "                       patience=10,\n",
        "                       verbose=1,\n",
        "                       restore_best_weights=True)\n"
      ],
      "execution_count": null,
      "outputs": []
    },
    {
      "cell_type": "markdown",
      "metadata": {
        "id": "LhfUC7nm5Yl5"
      },
      "source": [
        "### ResNet"
      ]
    },
    {
      "cell_type": "code",
      "metadata": {
        "id": "dXbHGwJwdMyA",
        "colab": {
          "base_uri": "https://localhost:8080/"
        },
        "outputId": "7995a36e-2b5a-4c48-b0a8-26e4e93192c9"
      },
      "source": [
        "resnet = ResNet50(include_top=False, weights='imagenet', input_shape=(124,124,3))\n",
        "x = resnet.output\n",
        "x = L.GlobalAveragePooling2D()(x)\n",
        "x = Dense(128, activation=\"relu\")(x)\n",
        "x = Dense(64, activation=\"relu\")(x)\n",
        "predictions = Dense(4, activation=\"softmax\")(x)\n",
        "resnet = Model(inputs=resnet.input, outputs=predictions)\n",
        "resnet.compile(optimizer='adam',\n",
        "                  loss = 'categorical_crossentropy',\n",
        "                  metrics=['accuracy'])\n",
        "resnet.summary()"
      ],
      "execution_count": null,
      "outputs": [
        {
          "output_type": "stream",
          "text": [
            "Downloading data from https://storage.googleapis.com/tensorflow/keras-applications/resnet/resnet50_weights_tf_dim_ordering_tf_kernels_notop.h5\n",
            "94773248/94765736 [==============================] - 2s 0us/step\n",
            "Model: \"model\"\n",
            "__________________________________________________________________________________________________\n",
            "Layer (type)                    Output Shape         Param #     Connected to                     \n",
            "==================================================================================================\n",
            "Total params: 23,858,500\n",
            "Trainable params: 23,805,380\n",
            "Non-trainable params: 53,120\n",
            "__________________________________________________________________________________________________\n"
          ],
          "name": "stdout"
        }
      ]
    },
    {
      "cell_type": "code",
      "metadata": {
        "id": "OuHFWNTzdSW8",
        "colab": {
          "base_uri": "https://localhost:8080/"
        },
        "outputId": "327a2593-e014-4141-ae6e-3717cd43dfcf"
      },
      "source": [
        "## Fit the Model with training dataset\n",
        "history_1 = resnet.fit(train_ds,\n",
        "                      validation_data=val_ds,\n",
        "                      epochs=40,\n",
        "                      steps_per_epoch=train_ds.samples//128,\n",
        "                      validation_steps=val_ds.samples//128,\n",
        "                      callbacks=[ReduceLROnPlateau(monitor='val_loss', factor=0.3,patience=3, min_lr=0.000001), checkpoint_1,earlystop])"
      ],
      "execution_count": null,
      "outputs": [
        {
          "output_type": "stream",
          "text": [
            "Epoch 1/40\n",
            "11/11 [==============================] - 255s 21s/step - loss: 11.8983 - accuracy: 0.3056 - val_loss: 1.4056 - val_accuracy: 0.1719\n",
            "\n",
            "Epoch 00001: val_loss improved from inf to 1.40565, saving model to resnet.h5\n",
            "Epoch 2/40\n",
            "11/11 [==============================] - 225s 22s/step - loss: 1.4395 - accuracy: 0.3212 - val_loss: 1.2964 - val_accuracy: 0.3438\n",
            "\n",
            "Epoch 00002: val_loss improved from 1.40565 to 1.29636, saving model to resnet.h5\n",
            "Epoch 3/40\n",
            "11/11 [==============================] - 226s 23s/step - loss: 1.2474 - accuracy: 0.3664 - val_loss: 1.2085 - val_accuracy: 0.4062\n",
            "\n",
            "Epoch 00003: val_loss improved from 1.29636 to 1.20851, saving model to resnet.h5\n",
            "Epoch 4/40\n",
            "11/11 [==============================] - 213s 21s/step - loss: 1.2674 - accuracy: 0.2976 - val_loss: 1.2183 - val_accuracy: 0.4062\n",
            "\n",
            "Epoch 00004: val_loss did not improve from 1.20851\n",
            "Epoch 5/40\n",
            "11/11 [==============================] - 19s 2s/step - loss: 1.2988 - accuracy: 0.2870 - val_loss: 1.2213 - val_accuracy: 0.2969\n",
            "\n",
            "Epoch 00005: val_loss did not improve from 1.20851\n",
            "Epoch 6/40\n",
            "11/11 [==============================] - 19s 2s/step - loss: 1.2492 - accuracy: 0.3050 - val_loss: 1.3484 - val_accuracy: 0.2656\n",
            "\n",
            "Epoch 00006: val_loss did not improve from 1.20851\n",
            "Epoch 7/40\n",
            "11/11 [==============================] - 19s 2s/step - loss: 1.2060 - accuracy: 0.3541 - val_loss: 1.2331 - val_accuracy: 0.4219\n",
            "\n",
            "Epoch 00007: val_loss did not improve from 1.20851\n",
            "Epoch 8/40\n",
            "11/11 [==============================] - 18s 2s/step - loss: 1.2810 - accuracy: 0.2677 - val_loss: 1.2069 - val_accuracy: 0.3125\n",
            "\n",
            "Epoch 00008: val_loss improved from 1.20851 to 1.20686, saving model to resnet.h5\n",
            "Epoch 9/40\n",
            "11/11 [==============================] - 19s 2s/step - loss: 1.2199 - accuracy: 0.2696 - val_loss: 1.3522 - val_accuracy: 0.2969\n",
            "\n",
            "Epoch 00009: val_loss did not improve from 1.20686\n",
            "Epoch 10/40\n",
            "11/11 [==============================] - 20s 2s/step - loss: 1.2298 - accuracy: 0.3797 - val_loss: 1.2530 - val_accuracy: 0.4062\n",
            "\n",
            "Epoch 00010: val_loss did not improve from 1.20686\n",
            "Epoch 11/40\n",
            "11/11 [==============================] - 19s 2s/step - loss: 1.2275 - accuracy: 0.3114 - val_loss: 1.2153 - val_accuracy: 0.4688\n",
            "\n",
            "Epoch 00011: val_loss did not improve from 1.20686\n",
            "Epoch 12/40\n",
            "11/11 [==============================] - 18s 2s/step - loss: 1.2914 - accuracy: 0.2687 - val_loss: 1.1957 - val_accuracy: 0.3125\n",
            "\n",
            "Epoch 00012: val_loss improved from 1.20686 to 1.19569, saving model to resnet.h5\n",
            "Epoch 13/40\n",
            "11/11 [==============================] - 18s 2s/step - loss: 1.1966 - accuracy: 0.3717 - val_loss: 1.2600 - val_accuracy: 0.3281\n",
            "\n",
            "Epoch 00013: val_loss did not improve from 1.19569\n",
            "Epoch 14/40\n",
            "11/11 [==============================] - 19s 2s/step - loss: 1.2516 - accuracy: 0.3229 - val_loss: 1.1727 - val_accuracy: 0.2500\n",
            "\n",
            "Epoch 00014: val_loss improved from 1.19569 to 1.17268, saving model to resnet.h5\n",
            "Epoch 15/40\n",
            "11/11 [==============================] - 19s 2s/step - loss: 1.2263 - accuracy: 0.3776 - val_loss: 1.2481 - val_accuracy: 0.4375\n",
            "\n",
            "Epoch 00015: val_loss did not improve from 1.17268\n",
            "Epoch 16/40\n",
            "11/11 [==============================] - 18s 2s/step - loss: 1.2252 - accuracy: 0.4176 - val_loss: 1.3634 - val_accuracy: 0.2812\n",
            "\n",
            "Epoch 00016: val_loss did not improve from 1.17268\n",
            "Epoch 17/40\n",
            "11/11 [==============================] - 18s 2s/step - loss: 1.2470 - accuracy: 0.3251 - val_loss: 1.2743 - val_accuracy: 0.2500\n",
            "\n",
            "Epoch 00017: val_loss did not improve from 1.17268\n",
            "Epoch 18/40\n",
            "11/11 [==============================] - 19s 2s/step - loss: 1.2315 - accuracy: 0.3399 - val_loss: 1.2851 - val_accuracy: 0.3594\n",
            "\n",
            "Epoch 00018: val_loss did not improve from 1.17268\n",
            "Epoch 19/40\n",
            "11/11 [==============================] - 19s 2s/step - loss: 1.2539 - accuracy: 0.3717 - val_loss: 1.2623 - val_accuracy: 0.3125\n",
            "\n",
            "Epoch 00019: val_loss did not improve from 1.17268\n",
            "Epoch 20/40\n",
            "11/11 [==============================] - 18s 2s/step - loss: 1.2211 - accuracy: 0.3760 - val_loss: 1.2494 - val_accuracy: 0.4062\n",
            "\n",
            "Epoch 00020: val_loss did not improve from 1.17268\n",
            "Epoch 21/40\n",
            "11/11 [==============================] - 18s 2s/step - loss: 1.2545 - accuracy: 0.3554 - val_loss: 1.3010 - val_accuracy: 0.2500\n",
            "\n",
            "Epoch 00021: val_loss did not improve from 1.17268\n",
            "Epoch 22/40\n",
            "11/11 [==============================] - 19s 2s/step - loss: 1.2528 - accuracy: 0.3325 - val_loss: 1.2811 - val_accuracy: 0.3594\n",
            "\n",
            "Epoch 00022: val_loss did not improve from 1.17268\n",
            "Epoch 23/40\n",
            "11/11 [==============================] - 19s 2s/step - loss: 1.2461 - accuracy: 0.3267 - val_loss: 1.1474 - val_accuracy: 0.3281\n",
            "\n",
            "Epoch 00023: val_loss improved from 1.17268 to 1.14739, saving model to resnet.h5\n",
            "Epoch 24/40\n",
            "11/11 [==============================] - 18s 2s/step - loss: 1.2260 - accuracy: 0.3831 - val_loss: 1.2640 - val_accuracy: 0.3125\n",
            "\n",
            "Epoch 00024: val_loss did not improve from 1.14739\n",
            "Epoch 25/40\n",
            "11/11 [==============================] - 19s 2s/step - loss: 1.1942 - accuracy: 0.2901 - val_loss: 1.2347 - val_accuracy: 0.3438\n",
            "\n",
            "Epoch 00025: val_loss did not improve from 1.14739\n",
            "Epoch 26/40\n",
            "11/11 [==============================] - 19s 2s/step - loss: 1.2755 - accuracy: 0.3718 - val_loss: 1.2134 - val_accuracy: 0.2656\n",
            "\n",
            "Epoch 00026: val_loss did not improve from 1.14739\n",
            "Epoch 27/40\n",
            "11/11 [==============================] - 19s 2s/step - loss: 1.2234 - accuracy: 0.3364 - val_loss: 1.2948 - val_accuracy: 0.3281\n",
            "\n",
            "Epoch 00027: val_loss did not improve from 1.14739\n",
            "Epoch 28/40\n",
            "11/11 [==============================] - 18s 2s/step - loss: 1.1885 - accuracy: 0.3407 - val_loss: 1.1902 - val_accuracy: 0.3906\n",
            "\n",
            "Epoch 00028: val_loss did not improve from 1.14739\n",
            "Epoch 29/40\n",
            "11/11 [==============================] - 19s 2s/step - loss: 1.2484 - accuracy: 0.3467 - val_loss: 1.3267 - val_accuracy: 0.2656\n",
            "\n",
            "Epoch 00029: val_loss did not improve from 1.14739\n",
            "Epoch 30/40\n",
            "11/11 [==============================] - 18s 2s/step - loss: 1.2808 - accuracy: 0.3151 - val_loss: 1.2417 - val_accuracy: 0.2812\n",
            "\n",
            "Epoch 00030: val_loss did not improve from 1.14739\n",
            "Epoch 31/40\n",
            "11/11 [==============================] - 19s 2s/step - loss: 1.2189 - accuracy: 0.3628 - val_loss: 1.2300 - val_accuracy: 0.3438\n",
            "\n",
            "Epoch 00031: val_loss did not improve from 1.14739\n",
            "Epoch 32/40\n",
            "11/11 [==============================] - 18s 2s/step - loss: 1.2403 - accuracy: 0.3720 - val_loss: 1.2247 - val_accuracy: 0.3750\n",
            "\n",
            "Epoch 00032: val_loss did not improve from 1.14739\n",
            "Epoch 33/40\n",
            "11/11 [==============================] - 19s 2s/step - loss: 1.1977 - accuracy: 0.3536 - val_loss: 1.1791 - val_accuracy: 0.3594\n",
            "\n",
            "Epoch 00033: val_loss did not improve from 1.14739\n",
            "Restoring model weights from the end of the best epoch.\n",
            "Epoch 00033: early stopping\n"
          ],
          "name": "stdout"
        }
      ]
    },
    {
      "cell_type": "code",
      "metadata": {
        "id": "txZCyZkuHBOO",
        "colab": {
          "base_uri": "https://localhost:8080/",
          "height": 295
        },
        "outputId": "06a7816a-ad12-415f-ca01-c69f10674921"
      },
      "source": [
        "# Show history of model's accuracy on train and test dataset over epoch values\n",
        "model_history_1 = history_1.history\n",
        "\n",
        "plt.figure()\n",
        "plt.plot(model_history_1['accuracy'])\n",
        "plt.plot(model_history_1['val_accuracy'])\n",
        "plt.title('model accuracy')\n",
        "plt.ylabel('accuracy')\n",
        "plt.xlabel('epoch')\n",
        "plt.legend(['train', 'val'])\n",
        "plt.savefig('accuracy')\n",
        "plt.show()"
      ],
      "execution_count": null,
      "outputs": [
        {
          "output_type": "display_data",
          "data": {
            "image/png": "[encoded data removed]",
            "text/plain": [
              "<Figure size 432x288 with 1 Axes>"
            ]
          },
          "metadata": {
            "tags": [],
            "needs_background": "light"
          }
        }
      ]
    },
    {
      "cell_type": "markdown",
      "metadata": {
        "id": "DE0vYLe2ElKY"
      },
      "source": [
        "**Nhận xét:**\n",
        "\n",
        "Có thể thấy accuracy trên cả tập Train và Validation đều rất hỗn loạn và rất thấp, chủ yếu ở mức 0.3 – 0.35. Và theo kết quả chạy được thì val_loss tốt nhất nhận được là 1.14739."
      ]
    },
    {
      "cell_type": "markdown",
      "metadata": {
        "id": "QptpLIWy01L1"
      },
      "source": [
        "### EfficientNetB7"
      ]
    },
    {
      "cell_type": "code",
      "metadata": {
        "colab": {
          "base_uri": "https://localhost:8080/"
        },
        "id": "588XISPDxRor",
        "outputId": "bfc73a3c-c261-45b7-f06b-4491faf60b4b"
      },
      "source": [
        "eff = efn.EfficientNetB7(include_top=False, weights='noisy-student', pooling='avg', input_shape=(124, 124, 3))\n",
        "\n",
        "model = Sequential()\n",
        "model.add(eff)\n",
        "model.add(L.Dense(4, activation='softmax'))\n",
        "\n",
        "model.compile(optimizer=tf.keras.optimizers.Adam(learning_rate=0.001), loss='categorical_crossentropy', metrics=['accuracy'])\n",
        "print(model.summary())"
      ],
      "execution_count": null,
      "outputs": [
        {
          "output_type": "stream",
          "text": [
            "Downloading data from https://github.com/qubvel/efficientnet/releases/download/v0.0.1/efficientnet-b7_noisy-student_notop.h5\n",
            "258072576/258068648 [==============================] - 6s 0us/step\n",
            "Model: \"sequential_1\"\n",
            "_________________________________________________________________\n",
            "Layer (type)                 Output Shape              Param #   \n",
            "=================================================================\n",
            "efficientnet-b7 (Functional) (None, 2560)              64097680  \n",
            "_________________________________________________________________\n",
            "dense_4 (Dense)              (None, 4)                 10244     \n",
            "=================================================================\n",
            "Total params: 64,107,924\n",
            "Trainable params: 63,797,204\n",
            "Non-trainable params: 310,720\n",
            "_________________________________________________________________\n",
            "None\n"
          ],
          "name": "stdout"
        }
      ]
    },
    {
      "cell_type": "code",
      "metadata": {
        "colab": {
          "base_uri": "https://localhost:8080/"
        },
        "id": "-2hTNzkOo9w9",
        "outputId": "72d0596d-208f-4691-94cd-3ffcb36073b0"
      },
      "source": [
        "## Fit the Model with training dataset\n",
        "history_3 = model.fit(train_ds,\n",
        "                      validation_data=val_ds,\n",
        "                      epochs=40,\n",
        "                      steps_per_epoch=train_ds.samples//128,\n",
        "                      validation_steps=val_ds.samples//128,\n",
        "                      callbacks=[checkpoint_3,earlystop])"
      ],
      "execution_count": null,
      "outputs": [
        {
          "output_type": "stream",
          "text": [
            "Epoch 1/40\n",
            "11/11 [==============================] - 67s 3s/step - loss: 1.5845 - accuracy: 0.2898 - val_loss: 2.4020 - val_accuracy: 0.3125\n",
            "\n",
            "Epoch 00001: val_loss improved from inf to 2.40199, saving model to efficientnet.h5\n",
            "Epoch 2/40\n",
            "11/11 [==============================] - 22s 2s/step - loss: 1.4587 - accuracy: 0.3665 - val_loss: 3.6887 - val_accuracy: 0.3125\n",
            "\n",
            "Epoch 00002: val_loss did not improve from 2.40199\n",
            "Epoch 3/40\n",
            "11/11 [==============================] - 22s 2s/step - loss: 1.3538 - accuracy: 0.4184 - val_loss: 1.5215 - val_accuracy: 0.3125\n",
            "\n",
            "Epoch 00003: val_loss improved from 2.40199 to 1.52151, saving model to efficientnet.h5\n",
            "Epoch 4/40\n",
            "11/11 [==============================] - 22s 2s/step - loss: 1.2801 - accuracy: 0.4148 - val_loss: 1.2614 - val_accuracy: 0.4375\n",
            "\n",
            "Epoch 00004: val_loss improved from 1.52151 to 1.26143, saving model to efficientnet.h5\n",
            "Epoch 5/40\n",
            "11/11 [==============================] - 22s 2s/step - loss: 1.2305 - accuracy: 0.4403 - val_loss: 1.3560 - val_accuracy: 0.4375\n",
            "\n",
            "Epoch 00005: val_loss did not improve from 1.26143\n",
            "Epoch 6/40\n",
            "11/11 [==============================] - 22s 2s/step - loss: 1.2026 - accuracy: 0.4574 - val_loss: 1.3825 - val_accuracy: 0.3594\n",
            "\n",
            "Epoch 00006: val_loss did not improve from 1.26143\n",
            "Epoch 7/40\n",
            "11/11 [==============================] - 22s 2s/step - loss: 1.0133 - accuracy: 0.5511 - val_loss: 1.2513 - val_accuracy: 0.5156\n",
            "\n",
            "Epoch 00007: val_loss improved from 1.26143 to 1.25129, saving model to efficientnet.h5\n",
            "Epoch 8/40\n",
            "11/11 [==============================] - 22s 2s/step - loss: 1.0573 - accuracy: 0.5455 - val_loss: 1.0245 - val_accuracy: 0.5156\n",
            "\n",
            "Epoch 00008: val_loss improved from 1.25129 to 1.02451, saving model to efficientnet.h5\n",
            "Epoch 9/40\n",
            "11/11 [==============================] - 23s 2s/step - loss: 0.9314 - accuracy: 0.6335 - val_loss: 1.2662 - val_accuracy: 0.4531\n",
            "\n",
            "Epoch 00009: val_loss did not improve from 1.02451\n",
            "Epoch 10/40\n",
            "11/11 [==============================] - 22s 2s/step - loss: 0.7347 - accuracy: 0.7528 - val_loss: 1.2047 - val_accuracy: 0.6406\n",
            "\n",
            "Epoch 00010: val_loss did not improve from 1.02451\n",
            "Epoch 11/40\n",
            "11/11 [==============================] - 22s 2s/step - loss: 0.6776 - accuracy: 0.7953 - val_loss: 1.3229 - val_accuracy: 0.5938\n",
            "\n",
            "Epoch 00011: val_loss did not improve from 1.02451\n",
            "Epoch 12/40\n",
            "11/11 [==============================] - 22s 2s/step - loss: 0.6697 - accuracy: 0.7955 - val_loss: 0.7623 - val_accuracy: 0.7344\n",
            "\n",
            "Epoch 00012: val_loss improved from 1.02451 to 0.76227, saving model to efficientnet.h5\n",
            "Epoch 13/40\n",
            "11/11 [==============================] - 22s 2s/step - loss: 0.6232 - accuracy: 0.8012 - val_loss: 1.7053 - val_accuracy: 0.5938\n",
            "\n",
            "Epoch 00013: val_loss did not improve from 0.76227\n",
            "Epoch 14/40\n",
            "11/11 [==============================] - 22s 2s/step - loss: 0.5930 - accuracy: 0.8097 - val_loss: 1.3892 - val_accuracy: 0.6250\n",
            "\n",
            "Epoch 00014: val_loss did not improve from 0.76227\n",
            "Epoch 15/40\n",
            "11/11 [==============================] - 22s 2s/step - loss: 0.6584 - accuracy: 0.7812 - val_loss: 3.4385 - val_accuracy: 0.6250\n",
            "\n",
            "Epoch 00015: val_loss did not improve from 0.76227\n",
            "Epoch 16/40\n",
            "11/11 [==============================] - 22s 2s/step - loss: 0.5694 - accuracy: 0.8012 - val_loss: 1.3543 - val_accuracy: 0.6562\n",
            "\n",
            "Epoch 00016: val_loss did not improve from 0.76227\n",
            "Epoch 17/40\n",
            "11/11 [==============================] - 22s 2s/step - loss: 0.4682 - accuracy: 0.8381 - val_loss: 2.0454 - val_accuracy: 0.7656\n",
            "\n",
            "Epoch 00017: val_loss did not improve from 0.76227\n",
            "Epoch 18/40\n",
            "11/11 [==============================] - 22s 2s/step - loss: 0.5799 - accuracy: 0.8239 - val_loss: 1.2731 - val_accuracy: 0.7656\n",
            "\n",
            "Epoch 00018: val_loss did not improve from 0.76227\n",
            "Epoch 19/40\n",
            "11/11 [==============================] - 22s 2s/step - loss: 0.5445 - accuracy: 0.8523 - val_loss: 1.8166 - val_accuracy: 0.7188\n",
            "\n",
            "Epoch 00019: val_loss did not improve from 0.76227\n",
            "Epoch 20/40\n",
            "11/11 [==============================] - 22s 2s/step - loss: 0.5498 - accuracy: 0.8239 - val_loss: 1.1079 - val_accuracy: 0.7344\n",
            "\n",
            "Epoch 00020: val_loss did not improve from 0.76227\n",
            "Epoch 21/40\n",
            "11/11 [==============================] - 22s 2s/step - loss: 0.5200 - accuracy: 0.8409 - val_loss: 0.8166 - val_accuracy: 0.7031\n",
            "\n",
            "Epoch 00021: val_loss did not improve from 0.76227\n",
            "Epoch 22/40\n",
            "11/11 [==============================] - 22s 2s/step - loss: 0.4526 - accuracy: 0.8551 - val_loss: 0.8328 - val_accuracy: 0.7188\n",
            "\n",
            "Epoch 00022: val_loss did not improve from 0.76227\n",
            "Restoring model weights from the end of the best epoch.\n",
            "Epoch 00022: early stopping\n"
          ],
          "name": "stdout"
        }
      ]
    },
    {
      "cell_type": "code",
      "metadata": {
        "id": "y9t-iy1AQJcZ",
        "colab": {
          "base_uri": "https://localhost:8080/",
          "height": 295
        },
        "outputId": "550afffe-d855-4859-8640-945f97fd4c40"
      },
      "source": [
        "# Show history of model's accuracy on train and test dataset over epoch values\n",
        "model_history_3 = history_3.history\n",
        "\n",
        "plt.figure()\n",
        "plt.plot(model_history_3['accuracy'])\n",
        "plt.plot(model_history_3['val_accuracy'])\n",
        "plt.title('model accuracy')\n",
        "plt.ylabel('accuracy')\n",
        "plt.xlabel('epoch')\n",
        "plt.legend(['train', 'val'])\n",
        "plt.savefig('accuracy')\n",
        "plt.show()"
      ],
      "execution_count": null,
      "outputs": [
        {
          "output_type": "display_data",
          "data": {
            "image/png": "[encoded data removed]",
            "text/plain": [
              "<Figure size 432x288 with 1 Axes>"
            ]
          },
          "metadata": {
            "tags": [],
            "needs_background": "light"
          }
        }
      ]
    },
    {
      "cell_type": "markdown",
      "metadata": {
        "id": "UmK5dJUfG-yw"
      },
      "source": [
        "**Nhận xét:**\n",
        "\n",
        "Có thể thấy accuracy ở cả tập Train và Validation đều được cải thiện so với mô hình ResNet. Và có vẻ ổn định trong khoảng epoch từ 10 đến 15 với accuracy trên cả 2 tập ở mức  0.7 – 0.8. Theo kết quả chạy được thì val_loss tốt nhất nhận được là 0.76227."
      ]
    },
    {
      "cell_type": "markdown",
      "metadata": {
        "id": "q-s-cw4N0-A_"
      },
      "source": [
        "### DenseNet\n",
        "\n",
        "\n"
      ]
    },
    {
      "cell_type": "code",
      "metadata": {
        "colab": {
          "base_uri": "https://localhost:8080/"
        },
        "id": "zceuHzFAv6SM",
        "outputId": "bd2f3334-5d5a-44dd-fed8-ebc4114ac508"
      },
      "source": [
        "densenet = tf.keras.Sequential([DenseNet121(input_shape=(124, 124, 3),\n",
        "                                             weights='imagenet',\n",
        "                                             include_top=False),\n",
        "                                 L.GlobalAveragePooling2D(),\n",
        "                                 L.Dense(4, activation='softmax')])\n",
        "densenet.compile(optimizer='adam',\n",
        "                  loss = 'categorical_crossentropy',\n",
        "                  metrics=['accuracy'])\n",
        "densenet.summary()"
      ],
      "execution_count": null,
      "outputs": [
        {
          "output_type": "stream",
          "text": [
            "Downloading data from https://storage.googleapis.com/tensorflow/keras-applications/densenet/densenet121_weights_tf_dim_ordering_tf_kernels_notop.h5\n",
            "29089792/29084464 [==============================] - 1s 0us/step\n",
            "Model: \"sequential\"\n",
            "_________________________________________________________________\n",
            "Layer (type)                 Output Shape              Param #   \n",
            "=================================================================\n",
            "densenet121 (Functional)     (None, 3, 3, 1024)        7037504   \n",
            "_________________________________________________________________\n",
            "global_average_pooling2d_1 ( (None, 1024)              0         \n",
            "_________________________________________________________________\n",
            "dense_3 (Dense)              (None, 4)                 4100      \n",
            "=================================================================\n",
            "Total params: 7,041,604\n",
            "Trainable params: 6,957,956\n",
            "Non-trainable params: 83,648\n",
            "_________________________________________________________________\n"
          ],
          "name": "stdout"
        }
      ]
    },
    {
      "cell_type": "code",
      "metadata": {
        "colab": {
          "base_uri": "https://localhost:8080/"
        },
        "id": "pR3yDbG95e9F",
        "outputId": "8cd080a9-56b0-43fb-9f0f-6ba144d7423a"
      },
      "source": [
        "## Fit the Model with training dataset\n",
        "history_2 = densenet.fit(train_ds,\n",
        "                      validation_data=val_ds,\n",
        "                      epochs=40,\n",
        "                      steps_per_epoch=train_ds.samples//128,\n",
        "                      validation_steps=val_ds.samples//128,\n",
        "                      callbacks=[checkpoint_2,earlystop])"
      ],
      "execution_count": null,
      "outputs": [
        {
          "output_type": "stream",
          "text": [
            "Epoch 1/40\n",
            "11/11 [==============================] - 38s 2s/step - loss: 1.2465 - accuracy: 0.5795 - val_loss: 6.0381 - val_accuracy: 0.3438\n",
            "\n",
            "Epoch 00001: val_loss improved from inf to 6.03813, saving model to densenet.h5\n",
            "Epoch 2/40\n",
            "11/11 [==============================] - 21s 2s/step - loss: 1.0558 - accuracy: 0.7102 - val_loss: 12.1031 - val_accuracy: 0.2344\n",
            "\n",
            "Epoch 00002: val_loss did not improve from 6.03813\n",
            "Epoch 3/40\n",
            "11/11 [==============================] - 21s 2s/step - loss: 0.9290 - accuracy: 0.6818 - val_loss: 61.0932 - val_accuracy: 0.3281\n",
            "\n",
            "Epoch 00003: val_loss did not improve from 6.03813\n",
            "Epoch 4/40\n",
            "11/11 [==============================] - 21s 2s/step - loss: 0.7956 - accuracy: 0.7500 - val_loss: 28.2684 - val_accuracy: 0.2500\n",
            "\n",
            "Epoch 00004: val_loss did not improve from 6.03813\n",
            "Epoch 5/40\n",
            "11/11 [==============================] - 21s 2s/step - loss: 0.7010 - accuracy: 0.7699 - val_loss: 86.0054 - val_accuracy: 0.4062\n",
            "\n",
            "Epoch 00005: val_loss did not improve from 6.03813\n",
            "Epoch 6/40\n",
            "11/11 [==============================] - 21s 2s/step - loss: 0.5450 - accuracy: 0.7841 - val_loss: 28.3965 - val_accuracy: 0.4844\n",
            "\n",
            "Epoch 00006: val_loss did not improve from 6.03813\n",
            "Epoch 7/40\n",
            "11/11 [==============================] - 21s 2s/step - loss: 0.5006 - accuracy: 0.8324 - val_loss: 3.0382 - val_accuracy: 0.4688\n",
            "\n",
            "Epoch 00007: val_loss improved from 6.03813 to 3.03824, saving model to densenet.h5\n",
            "Epoch 8/40\n",
            "11/11 [==============================] - 21s 2s/step - loss: 0.4949 - accuracy: 0.8693 - val_loss: 2.0774 - val_accuracy: 0.5781\n",
            "\n",
            "Epoch 00008: val_loss improved from 3.03824 to 2.07736, saving model to densenet.h5\n",
            "Epoch 9/40\n",
            "11/11 [==============================] - 21s 2s/step - loss: 0.4438 - accuracy: 0.8466 - val_loss: 1.2749 - val_accuracy: 0.5156\n",
            "\n",
            "Epoch 00009: val_loss improved from 2.07736 to 1.27491, saving model to densenet.h5\n",
            "Epoch 10/40\n",
            "11/11 [==============================] - 21s 2s/step - loss: 0.4655 - accuracy: 0.8466 - val_loss: 3.6797 - val_accuracy: 0.2812\n",
            "\n",
            "Epoch 00010: val_loss did not improve from 1.27491\n",
            "Epoch 11/40\n",
            "11/11 [==============================] - 21s 2s/step - loss: 0.4079 - accuracy: 0.8665 - val_loss: 1.8374 - val_accuracy: 0.5156\n",
            "\n",
            "Epoch 00011: val_loss did not improve from 1.27491\n",
            "Epoch 12/40\n",
            "11/11 [==============================] - 21s 2s/step - loss: 0.4042 - accuracy: 0.8835 - val_loss: 2.5268 - val_accuracy: 0.5000\n",
            "\n",
            "Epoch 00012: val_loss did not improve from 1.27491\n",
            "Epoch 13/40\n",
            "11/11 [==============================] - 21s 2s/step - loss: 0.4594 - accuracy: 0.8580 - val_loss: 3.1586 - val_accuracy: 0.5156\n",
            "\n",
            "Epoch 00013: val_loss did not improve from 1.27491\n",
            "Epoch 14/40\n",
            "11/11 [==============================] - 20s 2s/step - loss: 0.4421 - accuracy: 0.8546 - val_loss: 3.4304 - val_accuracy: 0.5000\n",
            "\n",
            "Epoch 00014: val_loss did not improve from 1.27491\n",
            "Epoch 15/40\n",
            "11/11 [==============================] - 20s 2s/step - loss: 0.4744 - accuracy: 0.8635 - val_loss: 3.2112 - val_accuracy: 0.6562\n",
            "\n",
            "Epoch 00015: val_loss did not improve from 1.27491\n",
            "Epoch 16/40\n",
            "11/11 [==============================] - 21s 2s/step - loss: 0.3256 - accuracy: 0.9034 - val_loss: 1.1635 - val_accuracy: 0.6875\n",
            "\n",
            "Epoch 00016: val_loss improved from 1.27491 to 1.16353, saving model to densenet.h5\n",
            "Epoch 17/40\n",
            "11/11 [==============================] - 20s 2s/step - loss: 0.3230 - accuracy: 0.8724 - val_loss: 0.8381 - val_accuracy: 0.7500\n",
            "\n",
            "Epoch 00017: val_loss improved from 1.16353 to 0.83811, saving model to densenet.h5\n",
            "Epoch 18/40\n",
            "11/11 [==============================] - 21s 2s/step - loss: 0.3363 - accuracy: 0.9034 - val_loss: 0.6837 - val_accuracy: 0.8125\n",
            "\n",
            "Epoch 00018: val_loss improved from 0.83811 to 0.68366, saving model to densenet.h5\n",
            "Epoch 19/40\n",
            "11/11 [==============================] - 21s 2s/step - loss: 0.2524 - accuracy: 0.9091 - val_loss: 1.8261 - val_accuracy: 0.6562\n",
            "\n",
            "Epoch 00019: val_loss did not improve from 0.68366\n",
            "Epoch 20/40\n",
            "11/11 [==============================] - 20s 2s/step - loss: 0.4303 - accuracy: 0.8694 - val_loss: 1.2523 - val_accuracy: 0.7656\n",
            "\n",
            "Epoch 00020: val_loss did not improve from 0.68366\n",
            "Epoch 21/40\n",
            "11/11 [==============================] - 21s 2s/step - loss: 0.3931 - accuracy: 0.8693 - val_loss: 0.6427 - val_accuracy: 0.8125\n",
            "\n",
            "Epoch 00021: val_loss improved from 0.68366 to 0.64273, saving model to densenet.h5\n",
            "Epoch 22/40\n",
            "11/11 [==============================] - 21s 2s/step - loss: 0.3365 - accuracy: 0.8835 - val_loss: 0.5593 - val_accuracy: 0.8281\n",
            "\n",
            "Epoch 00022: val_loss improved from 0.64273 to 0.55930, saving model to densenet.h5\n",
            "Epoch 23/40\n",
            "11/11 [==============================] - 20s 2s/step - loss: 0.3397 - accuracy: 0.9050 - val_loss: 0.6740 - val_accuracy: 0.7500\n",
            "\n",
            "Epoch 00023: val_loss did not improve from 0.55930\n",
            "Epoch 24/40\n",
            "11/11 [==============================] - 20s 2s/step - loss: 0.2899 - accuracy: 0.9080 - val_loss: 1.1491 - val_accuracy: 0.6562\n",
            "\n",
            "Epoch 00024: val_loss did not improve from 0.55930\n",
            "Epoch 25/40\n",
            "11/11 [==============================] - 21s 2s/step - loss: 0.2595 - accuracy: 0.9290 - val_loss: 0.3555 - val_accuracy: 0.8438\n",
            "\n",
            "Epoch 00025: val_loss improved from 0.55930 to 0.35555, saving model to densenet.h5\n",
            "Epoch 26/40\n",
            "11/11 [==============================] - 21s 2s/step - loss: 0.2867 - accuracy: 0.9062 - val_loss: 0.8217 - val_accuracy: 0.8281\n",
            "\n",
            "Epoch 00026: val_loss did not improve from 0.35555\n",
            "Epoch 27/40\n",
            "11/11 [==============================] - 21s 2s/step - loss: 0.4427 - accuracy: 0.8352 - val_loss: 0.3691 - val_accuracy: 0.8750\n",
            "\n",
            "Epoch 00027: val_loss did not improve from 0.35555\n",
            "Epoch 28/40\n",
            "11/11 [==============================] - 21s 2s/step - loss: 0.3153 - accuracy: 0.8864 - val_loss: 0.4523 - val_accuracy: 0.8594\n",
            "\n",
            "Epoch 00028: val_loss did not improve from 0.35555\n",
            "Epoch 29/40\n",
            "11/11 [==============================] - 21s 2s/step - loss: 0.2390 - accuracy: 0.9233 - val_loss: 0.5948 - val_accuracy: 0.7969\n",
            "\n",
            "Epoch 00029: val_loss did not improve from 0.35555\n",
            "Epoch 30/40\n",
            "11/11 [==============================] - 20s 2s/step - loss: 0.3392 - accuracy: 0.9050 - val_loss: 0.5288 - val_accuracy: 0.8125\n",
            "\n",
            "Epoch 00030: val_loss did not improve from 0.35555\n",
            "Epoch 31/40\n",
            "11/11 [==============================] - 21s 2s/step - loss: 0.3205 - accuracy: 0.8977 - val_loss: 0.7148 - val_accuracy: 0.7812\n",
            "\n",
            "Epoch 00031: val_loss did not improve from 0.35555\n",
            "Epoch 32/40\n",
            "11/11 [==============================] - 21s 2s/step - loss: 0.2953 - accuracy: 0.9006 - val_loss: 0.5347 - val_accuracy: 0.8281\n",
            "\n",
            "Epoch 00032: val_loss did not improve from 0.35555\n",
            "Epoch 33/40\n",
            "11/11 [==============================] - 21s 2s/step - loss: 0.2976 - accuracy: 0.9091 - val_loss: 0.9062 - val_accuracy: 0.6406\n",
            "\n",
            "Epoch 00033: val_loss did not improve from 0.35555\n",
            "Epoch 34/40\n",
            "11/11 [==============================] - 21s 2s/step - loss: 0.2741 - accuracy: 0.9062 - val_loss: 0.6475 - val_accuracy: 0.7500\n",
            "\n",
            "Epoch 00034: val_loss did not improve from 0.35555\n",
            "Epoch 35/40\n",
            "11/11 [==============================] - 21s 2s/step - loss: 0.2319 - accuracy: 0.9290 - val_loss: 0.5253 - val_accuracy: 0.7656\n",
            "\n",
            "Epoch 00035: val_loss did not improve from 0.35555\n",
            "Restoring model weights from the end of the best epoch.\n",
            "Epoch 00035: early stopping\n"
          ],
          "name": "stdout"
        }
      ]
    },
    {
      "cell_type": "code",
      "metadata": {
        "id": "UPAo7N9XHmku",
        "colab": {
          "base_uri": "https://localhost:8080/",
          "height": 295
        },
        "outputId": "c4c1b86a-d9cf-47eb-aa52-60d547911473"
      },
      "source": [
        "# Show history of model's accuracy on train and test dataset over epoch values\n",
        "model_history_2 = history_2.history\n",
        "\n",
        "plt.figure()\n",
        "plt.plot(model_history_2['accuracy'])\n",
        "plt.plot(model_history_2['val_accuracy'])\n",
        "plt.title('model accuracy')\n",
        "plt.ylabel('accuracy')\n",
        "plt.xlabel('epoch')\n",
        "plt.legend(['train', 'val'])\n",
        "plt.savefig('accuracy')\n",
        "plt.show()"
      ],
      "execution_count": null,
      "outputs": [
        {
          "output_type": "display_data",
          "data": {
            "image/png": "[encoded data removed]",
            "text/plain": [
              "<Figure size 432x288 with 1 Axes>"
            ]
          },
          "metadata": {
            "tags": [],
            "needs_background": "light"
          }
        }
      ]
    },
    {
      "cell_type": "markdown",
      "metadata": {
        "id": "ltXC-SpdGhoD"
      },
      "source": [
        "**Nhận xét:**\n",
        "\n",
        "Có thể thấy accuracy ở cả tập Train và Validation đều được cải thiện so với mô hình ResNet và EfficientNet. Và có vẻ ổn định trong khoảng epoch từ 25 đến 30 với accuracy trên cả 2 tập ở mức 0.8 – 0.9. Theo kết quả chạy được thì val_loss tốt nhất nhận được là 0.35555."
      ]
    },
    {
      "cell_type": "markdown",
      "metadata": {
        "id": "68P6zL17zhEK"
      },
      "source": [
        "## Testing"
      ]
    },
    {
      "cell_type": "markdown",
      "metadata": {
        "id": "kpvqrlaCHNXv"
      },
      "source": [
        "**Nhận xét:**\n",
        "\n",
        "Từ kết quả trên tập Train và Validation thì có thể thấy DenseNet cho kết quả tốt nhất vì vậy sử dụng mô hình này để dự đoán tập Test."
      ]
    },
    {
      "cell_type": "code",
      "metadata": {
        "id": "vsF5K083jcPq"
      },
      "source": [
        " densenet.load_weights('densenet.h5')"
      ],
      "execution_count": null,
      "outputs": []
    },
    {
      "cell_type": "code",
      "metadata": {
        "id": "v_BfJKuPu2s9",
        "colab": {
          "base_uri": "https://localhost:8080/",
          "height": 204
        },
        "outputId": "5617588b-f7d0-4bae-c4f7-4cbe0731df82"
      },
      "source": [
        "test_df = pd.read_csv(TEST_PATH)\n",
        "test_df.head()"
      ],
      "execution_count": null,
      "outputs": [
        {
          "output_type": "execute_result",
          "data": {
            "text/html": [
              "<div>\n",
              "<style scoped>\n",
              "    .dataframe tbody tr th:only-of-type {\n",
              "        vertical-align: middle;\n",
              "    }\n",
              "\n",
              "    .dataframe tbody tr th {\n",
              "        vertical-align: top;\n",
              "    }\n",
              "\n",
              "    .dataframe thead th {\n",
              "        text-align: right;\n",
              "    }\n",
              "</style>\n",
              "<table border=\"1\" class=\"dataframe\">\n",
              "  <thead>\n",
              "    <tr style=\"text-align: right;\">\n",
              "      <th></th>\n",
              "      <th>image_id</th>\n",
              "      <th>healthy</th>\n",
              "      <th>multiple_diseases</th>\n",
              "      <th>rust</th>\n",
              "      <th>scab</th>\n",
              "    </tr>\n",
              "  </thead>\n",
              "  <tbody>\n",
              "    <tr>\n",
              "      <th>0</th>\n",
              "      <td>Test_0</td>\n",
              "      <td>0.25</td>\n",
              "      <td>0.25</td>\n",
              "      <td>0.25</td>\n",
              "      <td>0.25</td>\n",
              "    </tr>\n",
              "    <tr>\n",
              "      <th>1</th>\n",
              "      <td>Test_1</td>\n",
              "      <td>0.25</td>\n",
              "      <td>0.25</td>\n",
              "      <td>0.25</td>\n",
              "      <td>0.25</td>\n",
              "    </tr>\n",
              "    <tr>\n",
              "      <th>2</th>\n",
              "      <td>Test_2</td>\n",
              "      <td>0.25</td>\n",
              "      <td>0.25</td>\n",
              "      <td>0.25</td>\n",
              "      <td>0.25</td>\n",
              "    </tr>\n",
              "    <tr>\n",
              "      <th>3</th>\n",
              "      <td>Test_3</td>\n",
              "      <td>0.25</td>\n",
              "      <td>0.25</td>\n",
              "      <td>0.25</td>\n",
              "      <td>0.25</td>\n",
              "    </tr>\n",
              "    <tr>\n",
              "      <th>4</th>\n",
              "      <td>Test_4</td>\n",
              "      <td>0.25</td>\n",
              "      <td>0.25</td>\n",
              "      <td>0.25</td>\n",
              "      <td>0.25</td>\n",
              "    </tr>\n",
              "  </tbody>\n",
              "</table>\n",
              "</div>"
            ],
            "text/plain": [
              "  image_id  healthy  multiple_diseases  rust  scab\n",
              "0   Test_0     0.25               0.25  0.25  0.25\n",
              "1   Test_1     0.25               0.25  0.25  0.25\n",
              "2   Test_2     0.25               0.25  0.25  0.25\n",
              "3   Test_3     0.25               0.25  0.25  0.25\n",
              "4   Test_4     0.25               0.25  0.25  0.25"
            ]
          },
          "metadata": {
            "tags": []
          },
          "execution_count": 32
        }
      ]
    },
    {
      "cell_type": "code",
      "metadata": {
        "id": "Hsny1gyrvO7z",
        "colab": {
          "base_uri": "https://localhost:8080/",
          "height": 204
        },
        "outputId": "eb437d06-dfc5-4f94-bfdf-eb307d196625"
      },
      "source": [
        "test_df.image_id = test_df.image_id.apply(lambda x: x+'.jpg')\n",
        "test_df.head()"
      ],
      "execution_count": null,
      "outputs": [
        {
          "output_type": "execute_result",
          "data": {
            "text/html": [
              "<div>\n",
              "<style scoped>\n",
              "    .dataframe tbody tr th:only-of-type {\n",
              "        vertical-align: middle;\n",
              "    }\n",
              "\n",
              "    .dataframe tbody tr th {\n",
              "        vertical-align: top;\n",
              "    }\n",
              "\n",
              "    .dataframe thead th {\n",
              "        text-align: right;\n",
              "    }\n",
              "</style>\n",
              "<table border=\"1\" class=\"dataframe\">\n",
              "  <thead>\n",
              "    <tr style=\"text-align: right;\">\n",
              "      <th></th>\n",
              "      <th>image_id</th>\n",
              "      <th>healthy</th>\n",
              "      <th>multiple_diseases</th>\n",
              "      <th>rust</th>\n",
              "      <th>scab</th>\n",
              "    </tr>\n",
              "  </thead>\n",
              "  <tbody>\n",
              "    <tr>\n",
              "      <th>0</th>\n",
              "      <td>Test_0.jpg</td>\n",
              "      <td>0.25</td>\n",
              "      <td>0.25</td>\n",
              "      <td>0.25</td>\n",
              "      <td>0.25</td>\n",
              "    </tr>\n",
              "    <tr>\n",
              "      <th>1</th>\n",
              "      <td>Test_1.jpg</td>\n",
              "      <td>0.25</td>\n",
              "      <td>0.25</td>\n",
              "      <td>0.25</td>\n",
              "      <td>0.25</td>\n",
              "    </tr>\n",
              "    <tr>\n",
              "      <th>2</th>\n",
              "      <td>Test_2.jpg</td>\n",
              "      <td>0.25</td>\n",
              "      <td>0.25</td>\n",
              "      <td>0.25</td>\n",
              "      <td>0.25</td>\n",
              "    </tr>\n",
              "    <tr>\n",
              "      <th>3</th>\n",
              "      <td>Test_3.jpg</td>\n",
              "      <td>0.25</td>\n",
              "      <td>0.25</td>\n",
              "      <td>0.25</td>\n",
              "      <td>0.25</td>\n",
              "    </tr>\n",
              "    <tr>\n",
              "      <th>4</th>\n",
              "      <td>Test_4.jpg</td>\n",
              "      <td>0.25</td>\n",
              "      <td>0.25</td>\n",
              "      <td>0.25</td>\n",
              "      <td>0.25</td>\n",
              "    </tr>\n",
              "  </tbody>\n",
              "</table>\n",
              "</div>"
            ],
            "text/plain": [
              "     image_id  healthy  multiple_diseases  rust  scab\n",
              "0  Test_0.jpg     0.25               0.25  0.25  0.25\n",
              "1  Test_1.jpg     0.25               0.25  0.25  0.25\n",
              "2  Test_2.jpg     0.25               0.25  0.25  0.25\n",
              "3  Test_3.jpg     0.25               0.25  0.25  0.25\n",
              "4  Test_4.jpg     0.25               0.25  0.25  0.25"
            ]
          },
          "metadata": {
            "tags": []
          },
          "execution_count": 33
        }
      ]
    },
    {
      "cell_type": "code",
      "metadata": {
        "id": "hd5DUlUPwBuZ",
        "colab": {
          "base_uri": "https://localhost:8080/"
        },
        "outputId": "abdbf6fe-43aa-47a2-b08d-fb5a93f0e9bb"
      },
      "source": [
        "## import test image dataset\n",
        "test_datagen = ImageDataGenerator(\n",
        "    rescale = 1./255\n",
        ")\n",
        "\n",
        "INPUT_SIZE = (HEIGHT,WIDTH,3)\n",
        "\n",
        "test_generator =  test_datagen.flow_from_dataframe(\n",
        "    test_df,\n",
        "    directory=IMAGES_PATH,\n",
        "    x_col='image_id',\n",
        "    y_col=None,\n",
        "    class_mode=None,\n",
        "    target_size=INPUT_SIZE[:2]\n",
        ")\n"
      ],
      "execution_count": null,
      "outputs": [
        {
          "output_type": "stream",
          "text": [
            "Found 1821 validated image filenames.\n"
          ],
          "name": "stdout"
        }
      ]
    },
    {
      "cell_type": "code",
      "metadata": {
        "id": "uuReUmvCwXEk",
        "colab": {
          "base_uri": "https://localhost:8080/"
        },
        "outputId": "a1eb58b8-25d7-4b5e-a95c-a1428165490d"
      },
      "source": [
        "## predict test images\n",
        "preds = densenet.predict(test_generator)\n",
        "print(preds)"
      ],
      "execution_count": null,
      "outputs": [
        {
          "output_type": "stream",
          "text": [
            "[[2.7274720e-03 7.6606089e-01 5.8882028e-02 1.7232957e-01]\n",
            " [8.7929780e-10 1.6078264e-03 9.9839216e-01 1.0454994e-09]\n",
            " [5.2385189e-05 3.0521646e-01 6.9092560e-01 3.8056071e-03]\n",
            " ...\n",
            " [3.3129149e-04 2.2659139e-01 7.7000523e-01 3.0721044e-03]\n",
            " [1.2638531e-06 2.2883661e-01 1.0775386e-04 7.7105445e-01]\n",
            " [5.3618571e-10 5.4349191e-04 9.9945647e-01 2.7863638e-09]]\n"
          ],
          "name": "stdout"
        }
      ]
    },
    {
      "cell_type": "code",
      "metadata": {
        "id": "KEQ-tjAuLBvp"
      },
      "source": [
        "test_df[cols] = preds"
      ],
      "execution_count": null,
      "outputs": []
    },
    {
      "cell_type": "code",
      "metadata": {
        "id": "JjKwK3Ig_vyj",
        "colab": {
          "base_uri": "https://localhost:8080/",
          "height": 419
        },
        "outputId": "8ea16c74-a57b-4366-e840-4675a5d9a0ba"
      },
      "source": [
        "test_df"
      ],
      "execution_count": null,
      "outputs": [
        {
          "output_type": "execute_result",
          "data": {
            "text/html": [
              "<div>\n",
              "<style scoped>\n",
              "    .dataframe tbody tr th:only-of-type {\n",
              "        vertical-align: middle;\n",
              "    }\n",
              "\n",
              "    .dataframe tbody tr th {\n",
              "        vertical-align: top;\n",
              "    }\n",
              "\n",
              "    .dataframe thead th {\n",
              "        text-align: right;\n",
              "    }\n",
              "</style>\n",
              "<table border=\"1\" class=\"dataframe\">\n",
              "  <thead>\n",
              "    <tr style=\"text-align: right;\">\n",
              "      <th></th>\n",
              "      <th>image_id</th>\n",
              "      <th>healthy</th>\n",
              "      <th>multiple_diseases</th>\n",
              "      <th>rust</th>\n",
              "      <th>scab</th>\n",
              "    </tr>\n",
              "  </thead>\n",
              "  <tbody>\n",
              "    <tr>\n",
              "      <th>0</th>\n",
              "      <td>Test_0.jpg</td>\n",
              "      <td>2.727472e-03</td>\n",
              "      <td>0.766061</td>\n",
              "      <td>0.058882</td>\n",
              "      <td>1.723296e-01</td>\n",
              "    </tr>\n",
              "    <tr>\n",
              "      <th>1</th>\n",
              "      <td>Test_1.jpg</td>\n",
              "      <td>8.792978e-10</td>\n",
              "      <td>0.001608</td>\n",
              "      <td>0.998392</td>\n",
              "      <td>1.045499e-09</td>\n",
              "    </tr>\n",
              "    <tr>\n",
              "      <th>2</th>\n",
              "      <td>Test_2.jpg</td>\n",
              "      <td>5.238519e-05</td>\n",
              "      <td>0.305216</td>\n",
              "      <td>0.690926</td>\n",
              "      <td>3.805607e-03</td>\n",
              "    </tr>\n",
              "    <tr>\n",
              "      <th>3</th>\n",
              "      <td>Test_3.jpg</td>\n",
              "      <td>1.018201e-03</td>\n",
              "      <td>0.063575</td>\n",
              "      <td>0.000527</td>\n",
              "      <td>9.348801e-01</td>\n",
              "    </tr>\n",
              "    <tr>\n",
              "      <th>4</th>\n",
              "      <td>Test_4.jpg</td>\n",
              "      <td>5.942808e-02</td>\n",
              "      <td>0.009689</td>\n",
              "      <td>0.930551</td>\n",
              "      <td>3.319252e-04</td>\n",
              "    </tr>\n",
              "    <tr>\n",
              "      <th>...</th>\n",
              "      <td>...</td>\n",
              "      <td>...</td>\n",
              "      <td>...</td>\n",
              "      <td>...</td>\n",
              "      <td>...</td>\n",
              "    </tr>\n",
              "    <tr>\n",
              "      <th>1816</th>\n",
              "      <td>Test_1816.jpg</td>\n",
              "      <td>6.876115e-01</td>\n",
              "      <td>0.134234</td>\n",
              "      <td>0.027363</td>\n",
              "      <td>1.507924e-01</td>\n",
              "    </tr>\n",
              "    <tr>\n",
              "      <th>1817</th>\n",
              "      <td>Test_1817.jpg</td>\n",
              "      <td>3.336060e-03</td>\n",
              "      <td>0.074003</td>\n",
              "      <td>0.001342</td>\n",
              "      <td>9.213194e-01</td>\n",
              "    </tr>\n",
              "    <tr>\n",
              "      <th>1818</th>\n",
              "      <td>Test_1818.jpg</td>\n",
              "      <td>3.312915e-04</td>\n",
              "      <td>0.226591</td>\n",
              "      <td>0.770005</td>\n",
              "      <td>3.072104e-03</td>\n",
              "    </tr>\n",
              "    <tr>\n",
              "      <th>1819</th>\n",
              "      <td>Test_1819.jpg</td>\n",
              "      <td>1.263853e-06</td>\n",
              "      <td>0.228837</td>\n",
              "      <td>0.000108</td>\n",
              "      <td>7.710544e-01</td>\n",
              "    </tr>\n",
              "    <tr>\n",
              "      <th>1820</th>\n",
              "      <td>Test_1820.jpg</td>\n",
              "      <td>5.361857e-10</td>\n",
              "      <td>0.000543</td>\n",
              "      <td>0.999456</td>\n",
              "      <td>2.786364e-09</td>\n",
              "    </tr>\n",
              "  </tbody>\n",
              "</table>\n",
              "<p>1821 rows × 5 columns</p>\n",
              "</div>"
            ],
            "text/plain": [
              "           image_id       healthy  multiple_diseases      rust          scab\n",
              "0        Test_0.jpg  2.727472e-03           0.766061  0.058882  1.723296e-01\n",
              "1        Test_1.jpg  8.792978e-10           0.001608  0.998392  1.045499e-09\n",
              "2        Test_2.jpg  5.238519e-05           0.305216  0.690926  3.805607e-03\n",
              "3        Test_3.jpg  1.018201e-03           0.063575  0.000527  9.348801e-01\n",
              "4        Test_4.jpg  5.942808e-02           0.009689  0.930551  3.319252e-04\n",
              "...             ...           ...                ...       ...           ...\n",
              "1816  Test_1816.jpg  6.876115e-01           0.134234  0.027363  1.507924e-01\n",
              "1817  Test_1817.jpg  3.336060e-03           0.074003  0.001342  9.213194e-01\n",
              "1818  Test_1818.jpg  3.312915e-04           0.226591  0.770005  3.072104e-03\n",
              "1819  Test_1819.jpg  1.263853e-06           0.228837  0.000108  7.710544e-01\n",
              "1820  Test_1820.jpg  5.361857e-10           0.000543  0.999456  2.786364e-09\n",
              "\n",
              "[1821 rows x 5 columns]"
            ]
          },
          "metadata": {
            "tags": []
          },
          "execution_count": 37
        }
      ]
    }
  ]
}